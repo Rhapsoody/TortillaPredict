{
 "cells": [
  {
   "cell_type": "markdown",
   "metadata": {},
   "source": [
    "# 🚀 Projet TortillaPredict !\n",
    "\n",
    "**Ce projet aura pour objectif d'étudier d'étudier des données relatives aux prix de vente de tortillas, au mexique, en fonction de différentes caractéristiques.**\n",
    "\n",
    "Nous procéderons dans un premier temps à une analyse des données afin de mieux les appréhender, puis nous tenterons d'établir un modèle de prédiction permettant de prédire le prix auquel sera vendue une tortilla en fonction de ses caractéristiques."
   ]
  },
  {
   "cell_type": "code",
   "execution_count": 1,
   "metadata": {},
   "outputs": [],
   "source": [
    "#Chargement des librairies nécessaires pour le traitement des données\n",
    "import pandas as pd\n",
    "import numpy as np\n",
    "import matplotlib.pyplot as plt\n",
    "import seaborn as sns"
   ]
  },
  {
   "cell_type": "code",
   "execution_count": 9,
   "metadata": {},
   "outputs": [],
   "source": [
    "#Chargement des données\n",
    "tortilla_datas = pd.read_csv('tortilla_prices.csv')"
   ]
  },
  {
   "cell_type": "code",
   "execution_count": 10,
   "metadata": {},
   "outputs": [
    {
     "name": "stdout",
     "output_type": "stream",
     "text": [
      "                  State              City  Year  Month  Day  \\\n",
      "0        Aguascalientes    Aguascalientes  2007      1   10   \n",
      "1       Baja California          Mexicali  2007      1   10   \n",
      "2       Baja California           Tijuana  2007      1   10   \n",
      "3   Baja California Sur            La Paz  2007      1   10   \n",
      "4              Campeche          Campeche  2007      1   10   \n",
      "5              Coahuila    Piedras Negras  2007      1   10   \n",
      "6              Coahuila          Saltillo  2007      1   10   \n",
      "7                Colima            Colima  2007      1   10   \n",
      "8               Chiapas         Tapachula  2007      1   10   \n",
      "9               Chiapas  Tuxtla Gutiérrez  2007      1   10   \n",
      "10            Chihuahua         Chihuahua  2007      1   10   \n",
      "11            Chihuahua        Cd. Juárez  2007      1   10   \n",
      "12                 D.F.              D.F.  2007      1   10   \n",
      "13                 D.F.           ZM D.F.  2007      1   10   \n",
      "14              Durango           Durango  2007      1   10   \n",
      "15              Durango     Gómez Palacio  2007      1   10   \n",
      "16           Guanajuato          Irapuato  2007      1   10   \n",
      "17           Guanajuato              León  2007      1   10   \n",
      "18             Guerrero          Acapulco  2007      1   10   \n",
      "19             Guerrero      Chilpancingo  2007      1   10   \n",
      "\n",
      "           Store type  Price per kilogram  \n",
      "0   Mom and Pop Store                9.90  \n",
      "1   Mom and Pop Store                 NaN  \n",
      "2   Mom and Pop Store               10.00  \n",
      "3   Mom and Pop Store               10.00  \n",
      "4   Mom and Pop Store               10.00  \n",
      "5   Mom and Pop Store               10.00  \n",
      "6   Mom and Pop Store                 NaN  \n",
      "7   Mom and Pop Store               10.00  \n",
      "8   Mom and Pop Store                 NaN  \n",
      "9   Mom and Pop Store                9.20  \n",
      "10  Mom and Pop Store               10.00  \n",
      "11  Mom and Pop Store                 NaN  \n",
      "12  Mom and Pop Store                8.33  \n",
      "13  Mom and Pop Store                7.67  \n",
      "14  Mom and Pop Store                7.10  \n",
      "15  Mom and Pop Store                 NaN  \n",
      "16  Mom and Pop Store                 NaN  \n",
      "17  Mom and Pop Store                9.00  \n",
      "18  Mom and Pop Store               10.80  \n",
      "19  Mom and Pop Store                 NaN  \n"
     ]
    }
   ],
   "source": [
    "#Commençons par observer les premières lignes de notre jeu de données\n",
    "print(tortilla_datas.head(20))"
   ]
  },
  {
   "cell_type": "markdown",
   "metadata": {},
   "source": [
    "TODO: Observation sur la premère impression des données"
   ]
  },
  {
   "cell_type": "code",
   "execution_count": 11,
   "metadata": {},
   "outputs": [
    {
     "name": "stdout",
     "output_type": "stream",
     "text": [
      "<class 'pandas.core.frame.DataFrame'>\n",
      "RangeIndex: 278886 entries, 0 to 278885\n",
      "Data columns (total 7 columns):\n",
      " #   Column              Non-Null Count   Dtype  \n",
      "---  ------              --------------   -----  \n",
      " 0   State               278886 non-null  object \n",
      " 1   City                278886 non-null  object \n",
      " 2   Year                278886 non-null  int64  \n",
      " 3   Month               278886 non-null  int64  \n",
      " 4   Day                 278886 non-null  int64  \n",
      " 5   Store type          278886 non-null  object \n",
      " 6   Price per kilogram  272496 non-null  float64\n",
      "dtypes: float64(1), int64(3), object(3)\n",
      "memory usage: 14.9+ MB\n",
      "None\n",
      "-------------------------------------------------------------------------------------------------------\n",
      "\n",
      "                Year          Month            Day  Price per kilogram\n",
      "count  278886.000000  278886.000000  278886.000000       272496.000000\n",
      "mean     2015.080015       6.384781      15.951955           12.054586\n",
      "std         4.912392       3.440216       8.755248            4.336487\n",
      "min      2007.000000       1.000000       1.000000            0.000000\n",
      "25%      2011.000000       3.000000       8.000000            9.570000\n",
      "50%      2015.000000       6.000000      16.000000           11.170000\n",
      "75%      2019.000000       9.000000      24.000000           14.000000\n",
      "max      2024.000000      12.000000      31.000000           31.000000\n"
     ]
    }
   ],
   "source": [
    "#Chopons les premières infos sur notre jeu de données\n",
    "\n",
    "print(tortilla_datas.info())\n",
    "print(\"-------------------------------------------------------------------------------------------------------\\n\")\n",
    "print(tortilla_datas.describe())"
   ]
  },
  {
   "cell_type": "code",
   "execution_count": 12,
   "metadata": {},
   "outputs": [
    {
     "name": "stdout",
     "output_type": "stream",
     "text": [
      "State                    0\n",
      "City                     0\n",
      "Year                     0\n",
      "Month                    0\n",
      "Day                      0\n",
      "Store type               0\n",
      "Price per kilogram    6390\n",
      "dtype: int64\n"
     ]
    }
   ],
   "source": [
    "#On va verifier la qualité du dataset\n",
    "#Y a t il des valeurs manquantes?\n",
    "\n",
    "nan_values = tortilla_datas.isna().sum()\n",
    "\n",
    "print(nan_values)"
   ]
  },
  {
   "cell_type": "markdown",
   "metadata": {},
   "source": [
    "On constate que dans la colonne des prix au kg on a pas mal de valeur nulles, pour poursuivre l'analyse, on va virer les valeurs manquantes."
   ]
  },
  {
   "cell_type": "code",
   "execution_count": 16,
   "metadata": {},
   "outputs": [
    {
     "name": "stdout",
     "output_type": "stream",
     "text": [
      "<class 'pandas.core.frame.DataFrame'>\n",
      "Index: 272496 entries, 0 to 278885\n",
      "Data columns (total 7 columns):\n",
      " #   Column              Non-Null Count   Dtype  \n",
      "---  ------              --------------   -----  \n",
      " 0   State               272496 non-null  object \n",
      " 1   City                272496 non-null  object \n",
      " 2   Year                272496 non-null  int64  \n",
      " 3   Month               272496 non-null  int64  \n",
      " 4   Day                 272496 non-null  int64  \n",
      " 5   Store type          272496 non-null  object \n",
      " 6   Price per kilogram  272496 non-null  float64\n",
      "dtypes: float64(1), int64(3), object(3)\n",
      "memory usage: 16.6+ MB\n",
      "None\n",
      "\n",
      "--------------------------------------------------------------------------------------------------------\n",
      "\n",
      "State                 0\n",
      "City                  0\n",
      "Year                  0\n",
      "Month                 0\n",
      "Day                   0\n",
      "Store type            0\n",
      "Price per kilogram    0\n",
      "dtype: int64\n"
     ]
    }
   ],
   "source": [
    "clean_tortilla_datas = tortilla_datas.dropna()\n",
    "\n",
    "print(clean_tortilla_datas.info())\n",
    "\n",
    "print(\"\\n--------------------------------------------------------------------------------------------------------\\n\")\n",
    "\n",
    "print(clean_tortilla_datas.isna().sum())"
   ]
  }
 ],
 "metadata": {
  "kernelspec": {
   "display_name": "Python 3",
   "language": "python",
   "name": "python3"
  },
  "language_info": {
   "codemirror_mode": {
    "name": "ipython",
    "version": 3
   },
   "file_extension": ".py",
   "mimetype": "text/x-python",
   "name": "python",
   "nbconvert_exporter": "python",
   "pygments_lexer": "ipython3",
   "version": "3.11.7"
  }
 },
 "nbformat": 4,
 "nbformat_minor": 2
}
